{
 "cells": [
  {
   "cell_type": "code",
   "execution_count": 7,
   "metadata": {},
   "outputs": [
    {
     "name": "stdout",
     "output_type": "stream",
     "text": [
      "   22   6.1\n",
      "0  41   5.7\n",
      "1  18  5.3*\n",
      "2  29   NaN\n"
     ]
    }
   ],
   "source": [
    "import pandas as pd\n",
    "import numpy as np\n",
    "\n",
    "# Cleaning\n",
    "# ========\n",
    "\n",
    "df = pd.read_csv(\"small.csv\")\n",
    "print(df)"
   ]
  },
  {
   "cell_type": "markdown",
   "metadata": {},
   "source": [
    "Note that if we import the file using .read_csv, Pandas uses the first row as header. To fix, we can use (\"small.csv\", header=None) or the following to name column names."
   ]
  },
  {
   "cell_type": "code",
   "execution_count": 8,
   "metadata": {},
   "outputs": [
    {
     "name": "stdout",
     "output_type": "stream",
     "text": [
      "   age height\n",
      "0   22    6.1\n",
      "1   41    5.7\n",
      "2   18   5.3*\n",
      "3   29    NaN\n",
      "int64\n",
      "object\n"
     ]
    }
   ],
   "source": [
    "df = pd.read_csv(\"small.csv\", names=[\"age\", \"height\"])\n",
    "print(df)\n",
    "\n",
    "#check datatype\n",
    "print(df.age.dtype)\n",
    "print(df.height.dtype)"
   ]
  },
  {
   "cell_type": "markdown",
   "metadata": {},
   "source": [
    "Since there's a undesirable characters in data set, use custom converter function:"
   ]
  },
  {
   "cell_type": "code",
   "execution_count": 11,
   "metadata": {},
   "outputs": [
    {
     "data": {
      "text/html": [
       "<div>\n",
       "<style>\n",
       "    .dataframe thead tr:only-child th {\n",
       "        text-align: right;\n",
       "    }\n",
       "\n",
       "    .dataframe thead th {\n",
       "        text-align: left;\n",
       "    }\n",
       "\n",
       "    .dataframe tbody tr th {\n",
       "        vertical-align: top;\n",
       "    }\n",
       "</style>\n",
       "<table border=\"1\" class=\"dataframe\">\n",
       "  <thead>\n",
       "    <tr style=\"text-align: right;\">\n",
       "      <th></th>\n",
       "      <th>age</th>\n",
       "      <th>height</th>\n",
       "    </tr>\n",
       "  </thead>\n",
       "  <tbody>\n",
       "    <tr>\n",
       "      <th>0</th>\n",
       "      <td>22</td>\n",
       "      <td>6.1</td>\n",
       "    </tr>\n",
       "    <tr>\n",
       "      <th>1</th>\n",
       "      <td>41</td>\n",
       "      <td>5.7</td>\n",
       "    </tr>\n",
       "    <tr>\n",
       "      <th>2</th>\n",
       "      <td>18</td>\n",
       "      <td>5.3</td>\n",
       "    </tr>\n",
       "    <tr>\n",
       "      <th>3</th>\n",
       "      <td>29</td>\n",
       "      <td>NA</td>\n",
       "    </tr>\n",
       "  </tbody>\n",
       "</table>\n",
       "</div>"
      ],
      "text/plain": [
       "   age height\n",
       "0   22    6.1\n",
       "1   41    5.7\n",
       "2   18    5.3\n",
       "3   29     NA"
      ]
     },
     "execution_count": 11,
     "metadata": {},
     "output_type": "execute_result"
    }
   ],
   "source": [
    "remove_stars = lambda s: s.replace(\"*\", \"\")\n",
    "df = pd.read_csv(\"small.csv\", names=[\"age\", \"height\"],\n",
    "                 converters={\"height\": remove_stars})\n",
    "df"
   ]
  },
  {
   "cell_type": "markdown",
   "metadata": {},
   "source": [
    "Way to deal with Missing values:\n",
    "1. drop the missing value\n",
    "2. fill the missing value with an educated guess based on the data\n",
    "3. Replace using an average or medium value of the missing value column"
   ]
  },
  {
   "cell_type": "code",
   "execution_count": 13,
   "metadata": {},
   "outputs": [
    {
     "name": "stdout",
     "output_type": "stream",
     "text": [
      "   age  height\n",
      "0   22     6.1\n",
      "1   41     5.7\n",
      "2   18     5.3\n",
      "3   29     5.7\n"
     ]
    }
   ],
   "source": [
    "#print(df.dropna()) \n",
    "#print(df.fillna(5.0))\n",
    "print(df.fillna(df.height.mean()))"
   ]
  }
 ],
 "metadata": {
  "kernelspec": {
   "display_name": "Python 3",
   "language": "python",
   "name": "python3"
  },
  "language_info": {
   "codemirror_mode": {
    "name": "ipython",
    "version": 3
   },
   "file_extension": ".py",
   "mimetype": "text/x-python",
   "name": "python",
   "nbconvert_exporter": "python",
   "pygments_lexer": "ipython3",
   "version": "3.6.1"
  }
 },
 "nbformat": 4,
 "nbformat_minor": 2
}
