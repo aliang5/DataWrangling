{
 "cells": [
  {
   "cell_type": "markdown",
   "metadata": {},
   "source": [
    "The following dataset comes from Europe Brent Crude Oil Spot Price during 1987 to 2015. And it contains two columns, oil price and date. "
   ]
  },
  {
   "cell_type": "code",
   "execution_count": 20,
   "metadata": {},
   "outputs": [
    {
     "name": "stdout",
     "output_type": "stream",
     "text": [
      "         date  price\n",
      "0  1987-05-20  18.63\n",
      "1  1987-05-21  18.45\n",
      "2  1987-05-22  18.55\n",
      "3  1987-05-25  18.60\n",
      "4  1987-05-26  18.63\n",
      "            date  price\n",
      "7155  2015-08-04  49.08\n",
      "7156  2015-08-05  49.04\n",
      "7157  2015-08-06  47.80\n",
      "7158  2015-08-07  47.54\n",
      "7159  2015-08-10  48.30\n"
     ]
    }
   ],
   "source": [
    "import pandas as pd\n",
    "import numpy as np\n",
    "oil = pd.read_csv(\"rbrted_cleaned.csv\")\n",
    "print(oil.head())\n",
    "print(oil.tail())"
   ]
  },
  {
   "cell_type": "markdown",
   "metadata": {},
   "source": [
    "Here, get the min and max value of the data set."
   ]
  },
  {
   "cell_type": "code",
   "execution_count": 7,
   "metadata": {},
   "outputs": [
    {
     "name": "stdout",
     "output_type": "stream",
     "text": [
      "            date  price\n",
      "2937  1998-12-10    9.1\n",
      "            date   price\n",
      "5373  2008-07-03  143.95\n"
     ]
    }
   ],
   "source": [
    "print(oil[oil.price==oil.price.min()])\n",
    "print(oil[oil.price==oil.price.max()])"
   ]
  },
  {
   "cell_type": "markdown",
   "metadata": {},
   "source": [
    "A good way to find poential outliers would be to get the values that deviate the most from the mean and make comparison to the std. Here, the 2.5 of std is used.\n",
    "\n",
    "Oil price in summer of 2008 was in its historical high in the period of 2003 to 2008. Reference matieral confirms that the extreme values are accruate. \n",
    "Ref:https://en.wikipedia.org/wiki/2000s_energy_crisis"
   ]
  },
  {
   "cell_type": "code",
   "execution_count": 15,
   "metadata": {},
   "outputs": [
    {
     "name": "stdout",
     "output_type": "stream",
     "text": [
      "            date   price\n",
      "5354  2008-06-06  132.81\n",
      "5355  2008-06-09  134.43\n",
      "5356  2008-06-10  135.24\n",
      "5357  2008-06-11  134.52\n",
      "5358  2008-06-12  132.11\n",
      "5359  2008-06-13  134.29\n",
      "5360  2008-06-16  133.90\n",
      "5361  2008-06-17  131.27\n",
      "5363  2008-06-19  131.84\n",
      "5364  2008-06-20  134.28\n",
      "5365  2008-06-23  134.54\n",
      "5366  2008-06-24  135.37\n",
      "5367  2008-06-25  131.59\n",
      "5368  2008-06-26  136.82\n",
      "5369  2008-06-27  139.38\n",
      "5370  2008-06-30  138.40\n",
      "5371  2008-07-01  140.67\n",
      "5372  2008-07-02  141.24\n",
      "5373  2008-07-03  143.95\n",
      "5374  2008-07-07  139.62\n",
      "5375  2008-07-08  134.15\n",
      "5376  2008-07-09  133.91\n",
      "5377  2008-07-10  135.81\n",
      "5378  2008-07-11  143.68\n",
      "5379  2008-07-14  142.43\n",
      "5380  2008-07-15  136.02\n",
      "5381  2008-07-16  133.31\n",
      "5382  2008-07-17  134.16\n"
     ]
    }
   ],
   "source": [
    "dev_price=np.abs(oil.price - oil.price.mean())\n",
    "\n",
    "print(oil[ dev_price > 2.5 * oil.price.std()])"
   ]
  },
  {
   "cell_type": "code",
   "execution_count": 13,
   "metadata": {},
   "outputs": [
    {
     "name": "stdout",
     "output_type": "stream",
     "text": [
      "            date   price\n",
      "5354  2008-06-06  132.81\n",
      "5355  2008-06-09  134.43\n",
      "5356  2008-06-10  135.24\n",
      "5357  2008-06-11  134.52\n",
      "5358  2008-06-12  132.11\n",
      "5359  2008-06-13  134.29\n",
      "5360  2008-06-16  133.90\n",
      "5361  2008-06-17  131.27\n",
      "5363  2008-06-19  131.84\n",
      "5364  2008-06-20  134.28\n",
      "5365  2008-06-23  134.54\n",
      "5366  2008-06-24  135.37\n",
      "5367  2008-06-25  131.59\n",
      "5368  2008-06-26  136.82\n",
      "5369  2008-06-27  139.38\n",
      "5370  2008-06-30  138.40\n",
      "5371  2008-07-01  140.67\n",
      "5372  2008-07-02  141.24\n",
      "5373  2008-07-03  143.95\n",
      "5374  2008-07-07  139.62\n",
      "5375  2008-07-08  134.15\n",
      "5376  2008-07-09  133.91\n",
      "5377  2008-07-10  135.81\n",
      "5378  2008-07-11  143.68\n",
      "5379  2008-07-14  142.43\n",
      "5380  2008-07-15  136.02\n",
      "5381  2008-07-16  133.31\n",
      "5382  2008-07-17  134.16\n"
     ]
    }
   ],
   "source": [
    "print(oil[ dev_price > 2.5 * oil.price.std()])"
   ]
  },
  {
   "cell_type": "markdown",
   "metadata": {},
   "source": [
    "Another way to explore the dataset is slicing the date per decade to view its changes"
   ]
  },
  {
   "cell_type": "code",
   "execution_count": 21,
   "metadata": {},
   "outputs": [
    {
     "name": "stdout",
     "output_type": "stream",
     "text": [
      "            price\n",
      "date             \n",
      "1987-05-20  18.63\n",
      "1987-05-21  18.45\n",
      "1987-05-22  18.55\n",
      "1987-05-25  18.60\n",
      "1987-05-26  18.63\n"
     ]
    }
   ],
   "source": [
    "oil.index = oil.date\n",
    "del oil[\"date\"]\n",
    "\n",
    "print(oil.head())"
   ]
  },
  {
   "cell_type": "code",
   "execution_count": 27,
   "metadata": {},
   "outputs": [
    {
     "name": "stdout",
     "output_type": "stream",
     "text": [
      "            price\n",
      "date             \n",
      "1987-08-03  20.95\n",
      "1988-10-03  11.60\n",
      "1988-10-04  11.65\n",
      "1988-10-05  11.20\n",
      "1988-10-06  11.30\n",
      "1988-10-07  11.35\n"
     ]
    }
   ],
   "source": [
    "decade = oil[\"1980\":\"1989\"]\n",
    "print(decade[np.abs(decade.price - decade.price.mean()) > 2 * decade.price.std()])"
   ]
  },
  {
   "cell_type": "code",
   "execution_count": 26,
   "metadata": {},
   "outputs": [
    {
     "name": "stdout",
     "output_type": "stream",
     "text": [
      "            price\n",
      "date             \n",
      "1990-09-24  40.75\n",
      "1990-09-25  39.90\n",
      "1990-09-26  40.85\n",
      "1990-09-27  41.45\n",
      "1990-09-28  41.00\n",
      "1990-10-09  40.90\n",
      "1990-10-10  40.20\n",
      "1990-10-11  41.15\n",
      "1990-10-12  39.90\n"
     ]
    }
   ],
   "source": [
    "decade = oil[\"1990\":\"1999\"]\n",
    "print(decade[np.abs(decade.price - decade.price.mean()) > 5 * decade.price.std()])"
   ]
  }
 ],
 "metadata": {
  "kernelspec": {
   "display_name": "Python 3",
   "language": "python",
   "name": "python3"
  },
  "language_info": {
   "codemirror_mode": {
    "name": "ipython",
    "version": 3
   },
   "file_extension": ".py",
   "mimetype": "text/x-python",
   "name": "python",
   "nbconvert_exporter": "python",
   "pygments_lexer": "ipython3",
   "version": "3.6.1"
  }
 },
 "nbformat": 4,
 "nbformat_minor": 2
}
