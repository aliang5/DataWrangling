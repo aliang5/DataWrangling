{
 "cells": [
  {
   "cell_type": "code",
   "execution_count": 1,
   "metadata": {},
   "outputs": [
    {
     "name": "stdout",
     "output_type": "stream",
     "text": [
      "          date    city  value\n",
      "0   2000-01-03  London      6\n",
      "1   2000-01-04  London      3\n",
      "2   2000-01-05  London      4\n",
      "3   2000-01-03  Mexico      3\n",
      "4   2000-01-04  Mexico      9\n",
      "5   2000-01-05  Mexico      8\n",
      "6   2000-01-03  Mumbai     12\n",
      "7   2000-01-04  Mumbai      9\n",
      "8   2000-01-05  Mumbai      8\n",
      "9   2000-01-03   Tokyo      5\n",
      "10  2000-01-04   Tokyo      5\n",
      "11  2000-01-05   Tokyo      6\n"
     ]
    }
   ],
   "source": [
    "import pandas as pd\n",
    "import numpy as np\n",
    "# Grouping Data\n",
    "\n",
    "df = pd.read_csv('cities.tsv', sep='\\t', names=['date', 'city', 'value'])\n",
    "print(df)"
   ]
  },
  {
   "cell_type": "code",
   "execution_count": 7,
   "metadata": {},
   "outputs": [
    {
     "name": "stdout",
     "output_type": "stream",
     "text": [
      "city    value\n",
      "London  3         3\n",
      "        4         4\n",
      "        6         6\n",
      "Mexico  3         3\n",
      "        8         8\n",
      "        9         9\n",
      "Mumbai  8         8\n",
      "        9         9\n",
      "        12       12\n",
      "Tokyo   5         5\n",
      "        6         6\n",
      "Name: value, dtype: int64\n"
     ]
    }
   ],
   "source": [
    "#group the data by city names and find the max Temperature value per city using .max()\n",
    "grouped = df.groupby([\"city\", \"value\"])\n",
    "print(grouped[\"value\"].max())"
   ]
  },
  {
   "cell_type": "code",
   "execution_count": 8,
   "metadata": {},
   "outputs": [
    {
     "name": "stdout",
     "output_type": "stream",
     "text": [
      "city    value\n",
      "London  3         3\n",
      "        4         4\n",
      "        6         6\n",
      "Mexico  3         3\n",
      "        8         8\n",
      "        9         9\n",
      "Mumbai  8         8\n",
      "        9         9\n",
      "        12       12\n",
      "Tokyo   5        10\n",
      "        6         6\n",
      "Name: value, dtype: int64\n",
      "city\n",
      "London    13\n",
      "Mexico    20\n",
      "Mumbai    29\n",
      "Tokyo     16\n",
      "Name: value, dtype: int64\n"
     ]
    }
   ],
   "source": [
    "print(grouped[\"value\"].sum())\n",
    "#sum of value per city\n",
    "print(df['value'].groupby(df['city']).sum())"
   ]
  },
  {
   "cell_type": "code",
   "execution_count": 10,
   "metadata": {},
   "outputs": [
    {
     "data": {
      "text/html": [
       "<div>\n",
       "<style>\n",
       "    .dataframe thead tr:only-child th {\n",
       "        text-align: right;\n",
       "    }\n",
       "\n",
       "    .dataframe thead th {\n",
       "        text-align: left;\n",
       "    }\n",
       "\n",
       "    .dataframe tbody tr th {\n",
       "        vertical-align: top;\n",
       "    }\n",
       "</style>\n",
       "<table border=\"1\" class=\"dataframe\">\n",
       "  <thead>\n",
       "    <tr style=\"text-align: right;\">\n",
       "      <th>city</th>\n",
       "      <th>London</th>\n",
       "      <th>Mexico</th>\n",
       "      <th>Mumbai</th>\n",
       "      <th>Tokyo</th>\n",
       "    </tr>\n",
       "    <tr>\n",
       "      <th>date</th>\n",
       "      <th></th>\n",
       "      <th></th>\n",
       "      <th></th>\n",
       "      <th></th>\n",
       "    </tr>\n",
       "  </thead>\n",
       "  <tbody>\n",
       "    <tr>\n",
       "      <th>2000-01-03</th>\n",
       "      <td>6</td>\n",
       "      <td>3</td>\n",
       "      <td>12</td>\n",
       "      <td>5</td>\n",
       "    </tr>\n",
       "    <tr>\n",
       "      <th>2000-01-04</th>\n",
       "      <td>3</td>\n",
       "      <td>9</td>\n",
       "      <td>9</td>\n",
       "      <td>5</td>\n",
       "    </tr>\n",
       "    <tr>\n",
       "      <th>2000-01-05</th>\n",
       "      <td>4</td>\n",
       "      <td>8</td>\n",
       "      <td>8</td>\n",
       "      <td>6</td>\n",
       "    </tr>\n",
       "  </tbody>\n",
       "</table>\n",
       "</div>"
      ],
      "text/plain": [
       "city        London  Mexico  Mumbai  Tokyo\n",
       "date                                     \n",
       "2000-01-03       6       3      12      5\n",
       "2000-01-04       3       9       9      5\n",
       "2000-01-05       4       8       8      6"
      ]
     },
     "execution_count": 10,
     "metadata": {},
     "output_type": "execute_result"
    }
   ],
   "source": [
    "#reshape data by having the dates as an index and the cities as columns using .pivot\n",
    "pv = df.pivot(\"date\", \"city\", \"value\")\n",
    "pv"
   ]
  },
  {
   "cell_type": "code",
   "execution_count": 11,
   "metadata": {},
   "outputs": [
    {
     "data": {
      "text/plain": [
       "date\n",
       "2000-01-03    12\n",
       "2000-01-04     9\n",
       "2000-01-05     8\n",
       "dtype: int64"
      ]
     },
     "execution_count": 11,
     "metadata": {},
     "output_type": "execute_result"
    }
   ],
   "source": [
    "#Get max function on this new DataFrame\n",
    "pv.max(axis=1)"
   ]
  },
  {
   "cell_type": "code",
   "execution_count": 2,
   "metadata": {},
   "outputs": [
    {
     "name": "stdout",
     "output_type": "stream",
     "text": [
      "   country     city        date  hours\n",
      "0  Germany  Hamburg  2015-06-01      4\n",
      "1  Germany  Hamburg  2015-06-02      7\n",
      "2  Germany  Hamburg  2015-06-03      0\n",
      "3  Germany  Hamburg  2015-06-04      7\n",
      "4  Germany  Hamburg  2015-06-05      4\n",
      "           hours                                           \n",
      "           count mean       std  min   25%  50%   75%   max\n",
      "city                                                       \n",
      "Berlin      10.0  4.8  3.705851  0.0  1.25  5.0  8.25   9.0\n",
      "Birmingham  10.0  4.7  3.860052  0.0  1.25  4.0  8.00  10.0\n",
      "Bordeax     10.0  6.2  2.936362  2.0  4.25  6.5  8.00  10.0\n",
      "Edinburgh   10.0  5.2  3.293090  0.0  2.50  6.0  7.75   9.0\n",
      "Frankfurt   10.0  4.2  2.201010  0.0  3.00  4.0  5.75   7.0\n",
      "Glasgow     10.0  5.0  3.681787  1.0  2.00  4.5  8.00  10.0\n",
      "Hamburg     10.0  5.2  2.936362  0.0  4.00  5.0  7.00  10.0\n",
      "Leipzig     10.0  5.7  2.002776  3.0  4.25  6.0  6.75   9.0\n",
      "London      10.0  5.2  3.521363  0.0  2.50  5.0  8.50  10.0\n",
      "Lyon        10.0  4.0  2.828427  0.0  2.25  3.5  6.25   8.0\n",
      "Manchester  10.0  3.2  2.699794  0.0  1.25  2.5  5.00   8.0\n",
      "Marseille   10.0  4.8  2.936362  0.0  3.00  5.5  7.00   9.0\n",
      "Munich      10.0  6.6  3.405877  0.0  5.25  7.5  9.00  10.0\n",
      "Nice        10.0  5.1  2.685351  2.0  3.00  5.0  6.75  10.0\n",
      "Paris       10.0  3.4  3.339993  0.0  2.00  2.0  3.00  10.0\n",
      "                   hours                                          \n",
      "                   count mean       std  min  25%  50%   75%   max\n",
      "country date                                                      \n",
      "France  2015-06-01   5.0  5.6  3.435113  1.0  3.0  7.0   8.0   9.0\n",
      "        2015-06-02   5.0  4.4  2.792848  1.0  2.0  5.0   7.0   7.0\n",
      "        2015-06-03   5.0  2.0  0.707107  1.0  2.0  2.0   2.0   3.0\n",
      "        2015-06-04   5.0  4.0  1.870829  2.0  3.0  4.0   4.0   7.0\n",
      "        2015-06-05   5.0  3.2  2.683282  0.0  2.0  2.0   6.0   6.0\n",
      "        2015-06-06   5.0  3.6  1.341641  3.0  3.0  3.0   3.0   6.0\n",
      "        2015-06-07   5.0  6.8  3.271085  2.0  5.0  8.0   9.0  10.0\n",
      "        2015-06-08   5.0  4.0  4.690416  0.0  0.0  2.0   8.0  10.0\n",
      "        2015-06-09   5.0  7.2  2.774887  4.0  5.0  7.0  10.0  10.0\n",
      "        2015-06-10   5.0  6.2  2.167948  3.0  5.0  7.0   8.0   8.0\n",
      "Germany 2015-06-01   5.0  5.6  3.781534  0.0  4.0  6.0   9.0   9.0\n",
      "        2015-06-02   5.0  4.8  1.788854  3.0  3.0  5.0   6.0   7.0\n",
      "        2015-06-03   5.0  3.0  3.082207  0.0  0.0  3.0   5.0   7.0\n",
      "        2015-06-04   5.0  6.2  0.836660  5.0  6.0  6.0   7.0   7.0\n",
      "        2015-06-05   5.0  4.4  3.361547  0.0  3.0  4.0   6.0   9.0\n",
      "        2015-06-06   5.0  2.6  1.949359  0.0  2.0  2.0   4.0   5.0\n",
      "        2015-06-07   5.0  8.4  1.140175  7.0  8.0  8.0   9.0  10.0\n",
      "        2015-06-08   5.0  5.8  3.768289  0.0  5.0  6.0   8.0  10.0\n",
      "        2015-06-09   5.0  5.2  2.863564  3.0  3.0  5.0   5.0  10.0\n",
      "        2015-06-10   5.0  7.0  2.000000  5.0  5.0  7.0   9.0   9.0\n",
      "UK      2015-06-01   5.0  7.4  1.516575  5.0  7.0  8.0   8.0   9.0\n",
      "        2015-06-02   5.0  6.8  3.271085  2.0  5.0  8.0   9.0  10.0\n",
      "        2015-06-03   5.0  5.8  3.633180  1.0  3.0  7.0   9.0   9.0\n",
      "        2015-06-04   5.0  4.8  3.962323  0.0  1.0  7.0   8.0   8.0\n",
      "        2015-06-05   5.0  2.2  2.167948  1.0  1.0  1.0   2.0   6.0\n",
      "        2015-06-06   5.0  4.4  4.722288  0.0  1.0  2.0   9.0  10.0\n",
      "        2015-06-07   5.0  5.2  3.563706  1.0  2.0  6.0   8.0   9.0\n",
      "        2015-06-08   5.0  3.4  4.219005  0.0  0.0  2.0   5.0  10.0\n",
      "        2015-06-09   5.0  3.6  2.607681  0.0  2.0  4.0   6.0   6.0\n",
      "        2015-06-10   5.0  3.0  1.414214  2.0  2.0  2.0   4.0   5.0\n",
      "            hours\n",
      "city             \n",
      "Berlin        4.8\n",
      "Birmingham    4.7\n",
      "Bordeax       6.2\n",
      "Edinburgh     5.2\n",
      "Frankfurt     4.2\n",
      "Glasgow       5.0\n",
      "Hamburg       5.2\n",
      "Leipzig       5.7\n",
      "London        5.2\n",
      "Lyon          4.0\n",
      "Manchester    3.2\n",
      "Marseille     4.8\n",
      "Munich        6.6\n",
      "Nice          5.1\n",
      "Paris         3.4\n",
      "            hours\n",
      "city             \n",
      "Berlin        4.8\n",
      "Birmingham    4.7\n",
      "Bordeax       6.2\n",
      "Edinburgh     5.2\n",
      "Frankfurt     4.2\n",
      "Glasgow       5.0\n",
      "Hamburg       5.2\n",
      "Leipzig       5.7\n",
      "London        5.2\n",
      "Lyon          4.0\n",
      "Manchester    3.2\n",
      "Marseille     4.8\n",
      "Munich        6.6\n",
      "Nice          5.1\n",
      "Paris         3.4\n",
      "            hours\n",
      "city             \n",
      "Berlin          9\n",
      "Birmingham     10\n",
      "Bordeax         8\n",
      "Edinburgh       9\n",
      "Frankfurt       7\n",
      "Glasgow         9\n",
      "Hamburg        10\n",
      "Leipzig         6\n",
      "London         10\n",
      "Lyon            8\n",
      "Manchester      8\n",
      "Marseille       9\n",
      "Munich         10\n",
      "Nice            8\n",
      "Paris          10\n"
     ]
    }
   ],
   "source": [
    "df = pd.read_csv(\"sunshine.tsv\", sep='\\t', names=['country', 'city', 'date', 'hours'])\n",
    "\n",
    "print(df.head())\n",
    "print(df.groupby(\"city\").describe())\n",
    "print(df.groupby([\"country\", \"date\"]).describe())\n",
    "print(df.groupby(\"city\").mean())\n",
    "print(df.groupby(\"city\").agg(np.mean))\n",
    "print(df.groupby(\"city\").agg(lambda s: abs(min(s) - max(s))))\n"
   ]
  },
  {
   "cell_type": "code",
   "execution_count": null,
   "metadata": {
    "collapsed": true
   },
   "outputs": [],
   "source": []
  }
 ],
 "metadata": {
  "kernelspec": {
   "display_name": "Python 3",
   "language": "python",
   "name": "python3"
  },
  "language_info": {
   "codemirror_mode": {
    "name": "ipython",
    "version": 3
   },
   "file_extension": ".py",
   "mimetype": "text/x-python",
   "name": "python",
   "nbconvert_exporter": "python",
   "pygments_lexer": "ipython3",
   "version": "3.6.1"
  }
 },
 "nbformat": 4,
 "nbformat_minor": 2
}
