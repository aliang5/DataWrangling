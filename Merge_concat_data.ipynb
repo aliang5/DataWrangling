{
 "cells": [
  {
   "cell_type": "code",
   "execution_count": 4,
   "metadata": {},
   "outputs": [
    {
     "name": "stdout",
     "output_type": "stream",
     "text": [
      "   A  B\n",
      "0  1  4\n",
      "1  2  5\n",
      "2  3  6\n",
      "   A  B\n",
      "0  4  7\n",
      "1  5  8\n",
      "2  6  9\n",
      "   A  B\n",
      "0  1  4\n",
      "1  2  5\n",
      "2  3  6\n",
      "0  4  7\n",
      "1  5  8\n",
      "2  6  9\n",
      "   A  B\n",
      "0  1  4\n",
      "1  2  5\n",
      "2  3  6\n",
      "3  4  7\n",
      "4  5  8\n",
      "5  6  9\n",
      "   A  B\n",
      "0  1  4\n",
      "1  2  5\n",
      "2  3  6\n",
      "0  4  7\n",
      "1  5  8\n",
      "2  6  9\n",
      "   A  B  A  B\n",
      "0  1  4  4  7\n",
      "1  2  5  5  8\n",
      "2  3  6  6  9\n",
      "      A  B\n",
      "UK 0  1  4\n",
      "   1  2  5\n",
      "   2  3  6\n",
      "DE 0  4  7\n",
      "   1  5  8\n",
      "   2  6  9\n",
      "  key  value\n",
      "0   A      0\n",
      "1   B      1\n",
      "2   C      2\n",
      "3   D      3\n",
      "  key  value\n",
      "0   B     10\n",
      "1   D     11\n",
      "2   D     12\n",
      "3   E     13\n",
      "  key  value_x  value_y\n",
      "0   B        1       10\n",
      "1   D        3       11\n",
      "2   D        3       12\n",
      "  key  value_x  value_y\n",
      "0   A        0      NaN\n",
      "1   B        1     10.0\n",
      "2   C        2      NaN\n",
      "3   D        3     11.0\n",
      "4   D        3     12.0\n",
      "  key  value_x  value_y\n",
      "0   B      1.0       10\n",
      "1   D      3.0       11\n",
      "2   D      3.0       12\n",
      "3   E      NaN       13\n",
      "  key  value_x  value_y\n",
      "0   A      0.0      NaN\n",
      "1   B      1.0     10.0\n",
      "2   C      2.0      NaN\n",
      "3   D      3.0     11.0\n",
      "4   D      3.0     12.0\n",
      "5   E      NaN     13.0\n"
     ]
    }
   ],
   "source": [
    "import pandas as pd\n",
    "impo\n",
    "# Merging\n",
    "# =======\n",
    "\n",
    "df1 = pd.DataFrame({'A': [1, 2, 3], 'B': [4, 5, 6]})\n",
    "print(df1)\n",
    "\n",
    "df2 = pd.DataFrame({'A': [4, 5, 6], 'B': [7, 8, 9]})\n",
    "print(df2)\n",
    "print(df1.append(df2))\n",
    "print(df1.append(df2, ignore_index=True))\n",
    "print(pd.concat([df1, df2]))\n",
    "print(pd.concat([df1, df2], axis=1))\n",
    "print(pd.concat([df1, df2], keys=['UK', 'DE']))\n",
    "\n",
    "df3 = pd.concat([df1, df2], keys=['UK', 'DE'])\n",
    "\n",
    "\n",
    "df1 = pd.DataFrame({'key': ['A', 'B', 'C', 'D'],\n",
    "                    'value': range(4)})\n",
    "print(df1)\n",
    "\n",
    "df2 = pd.DataFrame({'key': ['B', 'D', 'D', 'E'],\n",
    "                    'value': range(10, 14)})\n",
    "print(df2)\n",
    "\n",
    "print(df1.merge(df2, on='key'))\n",
    "print(df1.merge(df2, on='key', how='left'))\n",
    "print(df1.merge(df2, on='key', how='right'))\n",
    "print(df1.merge(df2, on='key', how='outer'))"
   ]
  },
  {
   "cell_type": "code",
   "execution_count": 6,
   "metadata": {},
   "outputs": [
    {
     "name": "stdout",
     "output_type": "stream",
     "text": [
      "  key  value\n",
      "0   A      0\n",
      "1   B      1\n",
      "2   C      2\n",
      "3   D      3\n",
      "0   B     10\n",
      "1   D     11\n",
      "2   D     12\n",
      "3   E     13\n"
     ]
    }
   ],
   "source": [
    "print(df1.append(df2))"
   ]
  },
  {
   "cell_type": "code",
   "execution_count": 7,
   "metadata": {},
   "outputs": [
    {
     "name": "stdout",
     "output_type": "stream",
     "text": [
      "  key  value\n",
      "0   A      0\n",
      "1   B      1\n",
      "2   C      2\n",
      "3   D      3\n",
      "4   B     10\n",
      "5   D     11\n",
      "6   D     12\n",
      "7   E     13\n"
     ]
    }
   ],
   "source": [
    "print(df1.append(df2, ignore_index=True))"
   ]
  },
  {
   "cell_type": "code",
   "execution_count": 8,
   "metadata": {},
   "outputs": [
    {
     "name": "stdout",
     "output_type": "stream",
     "text": [
      "  key  value\n",
      "0   A      0\n",
      "1   B      1\n",
      "2   C      2\n",
      "3   D      3\n",
      "0   B     10\n",
      "1   D     11\n",
      "2   D     12\n",
      "3   E     13\n"
     ]
    }
   ],
   "source": [
    "print(pd.concat([df1, df2]))"
   ]
  },
  {
   "cell_type": "code",
   "execution_count": 9,
   "metadata": {},
   "outputs": [
    {
     "name": "stdout",
     "output_type": "stream",
     "text": [
      "  key  value key  value\n",
      "0   A      0   B     10\n",
      "1   B      1   D     11\n",
      "2   C      2   D     12\n",
      "3   D      3   E     13\n"
     ]
    }
   ],
   "source": [
    "#default concat operation appends DataFrame along the index, which corresponse to axis0\n",
    "#to concatenate along the column, change the axis\n",
    "print(pd.concat([df1, df2], axis=1))"
   ]
  },
  {
   "cell_type": "code",
   "execution_count": 10,
   "metadata": {},
   "outputs": [
    {
     "name": "stdout",
     "output_type": "stream",
     "text": [
      "     key  value\n",
      "UK 0   A      0\n",
      "   1   B      1\n",
      "   2   C      2\n",
      "   3   D      3\n",
      "DE 0   B     10\n",
      "   1   D     11\n",
      "   2   D     12\n",
      "   3   E     13\n"
     ]
    }
   ],
   "source": [
    "#add keys to create a hierarchical index\n",
    "print(pd.concat([df1, df2], keys=['UK', 'DE']))\n",
    "\n",
    "df3 = pd.concat([df1, df2], keys=['UK', 'DE'])"
   ]
  },
  {
   "cell_type": "code",
   "execution_count": 15,
   "metadata": {},
   "outputs": [
    {
     "name": "stdout",
     "output_type": "stream",
     "text": [
      "  key  value\n",
      "0   A      0\n",
      "1   B      1\n",
      "2   C      2\n",
      "3   D      3\n",
      "  key  value\n",
      "0   B     10\n",
      "1   D     11\n",
      "2   D     12\n",
      "3   E     13\n"
     ]
    }
   ],
   "source": [
    "df1 = pd.DataFrame({'key': ['A', 'B', 'C', 'D'],\n",
    "                    'value': range(4)})\n",
    "print(df1)\n",
    "\n",
    "df2 = pd.DataFrame({'key': ['B', 'D', 'D', 'E'],\n",
    "                    'value': range(10, 14)})\n",
    "print(df2)"
   ]
  },
  {
   "cell_type": "code",
   "execution_count": 16,
   "metadata": {},
   "outputs": [
    {
     "name": "stdout",
     "output_type": "stream",
     "text": [
      "  key  value_x  value_y\n",
      "0   B        1       10\n",
      "1   D        3       11\n",
      "2   D        3       12\n"
     ]
    }
   ],
   "source": [
    "#on=\"Key\" creates an innder join using merge.()\n",
    "print(df1.merge(df2, on='key'))"
   ]
  },
  {
   "cell_type": "code",
   "execution_count": 17,
   "metadata": {},
   "outputs": [
    {
     "name": "stdout",
     "output_type": "stream",
     "text": [
      "  key  value_x  value_y\n",
      "0   A        0      NaN\n",
      "1   B        1     10.0\n",
      "2   C        2      NaN\n",
      "3   D        3     11.0\n",
      "4   D        3     12.0\n",
      "  key  value_x  value_y\n",
      "0   B      1.0       10\n",
      "1   D      3.0       11\n",
      "2   D      3.0       12\n",
      "3   E      NaN       13\n",
      "  key  value_x  value_y\n",
      "0   A      0.0      NaN\n",
      "1   B      1.0     10.0\n",
      "2   C      2.0      NaN\n",
      "3   D      3.0     11.0\n",
      "4   D      3.0     12.0\n",
      "5   E      NaN     13.0\n"
     ]
    }
   ],
   "source": [
    "print(df1.merge(df2, on='key', how='left'))\n",
    "print(df1.merge(df2, on='key', how='right'))\n",
    "print(df1.merge(df2, on='key', how='outer'))"
   ]
  }
 ],
 "metadata": {
  "kernelspec": {
   "display_name": "Python 3",
   "language": "python",
   "name": "python3"
  },
  "language_info": {
   "codemirror_mode": {
    "name": "ipython",
    "version": 3
   },
   "file_extension": ".py",
   "mimetype": "text/x-python",
   "name": "python",
   "nbconvert_exporter": "python",
   "pygments_lexer": "ipython3",
   "version": "3.6.1"
  }
 },
 "nbformat": 4,
 "nbformat_minor": 2
}
